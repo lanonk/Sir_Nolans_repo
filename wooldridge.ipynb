{
  "nbformat": 4,
  "nbformat_minor": 0,
  "metadata": {
    "colab": {
      "name": "wooldridge.ipynb",
      "provenance": [],
      "authorship_tag": "ABX9TyPHI1MZzXUWdBajA/ABQ69V",
      "include_colab_link": true
    },
    "kernelspec": {
      "name": "python3",
      "display_name": "Python 3"
    },
    "language_info": {
      "name": "python"
    }
  },
  "cells": [
    {
      "cell_type": "markdown",
      "metadata": {
        "id": "view-in-github",
        "colab_type": "text"
      },
      "source": [
        "<a href=\"https://colab.research.google.com/github/lanonk/Sir_Nolans_repo/blob/master/wooldridge.ipynb\" target=\"_parent\"><img src=\"https://colab.research.google.com/assets/colab-badge.svg\" alt=\"Open In Colab\"/></a>"
      ]
    },
    {
      "cell_type": "code",
      "metadata": {
        "id": "Jk_hfzE0EWu6",
        "colab": {
          "base_uri": "https://localhost:8080/"
        },
        "outputId": "ec3cc2f6-7bdf-4ee1-9e7e-a7d10e9d2a91"
      },
      "source": [
        "!pip install wooldridge\n",
        "# import wooldridge"
      ],
      "execution_count": null,
      "outputs": [
        {
          "output_type": "stream",
          "text": [
            "Collecting wooldridge\n",
            "\u001b[?25l  Downloading https://files.pythonhosted.org/packages/0a/83/b58d05add5297b678e6289e46f699bef8d4d581ed228464180e9262019f0/wooldridge-0.4.3-py3-none-any.whl (5.1MB)\n",
            "\u001b[K     |████████████████████████████████| 5.1MB 7.4MB/s \n",
            "\u001b[?25hRequirement already satisfied: pandas in /usr/local/lib/python3.7/dist-packages (from wooldridge) (1.1.5)\n",
            "Requirement already satisfied: numpy>=1.15.4 in /usr/local/lib/python3.7/dist-packages (from pandas->wooldridge) (1.19.5)\n",
            "Requirement already satisfied: python-dateutil>=2.7.3 in /usr/local/lib/python3.7/dist-packages (from pandas->wooldridge) (2.8.1)\n",
            "Requirement already satisfied: pytz>=2017.2 in /usr/local/lib/python3.7/dist-packages (from pandas->wooldridge) (2018.9)\n",
            "Requirement already satisfied: six>=1.5 in /usr/local/lib/python3.7/dist-packages (from python-dateutil>=2.7.3->pandas->wooldridge) (1.15.0)\n",
            "Installing collected packages: wooldridge\n",
            "Successfully installed wooldridge-0.4.3\n"
          ],
          "name": "stdout"
        }
      ]
    },
    {
      "cell_type": "code",
      "metadata": {
        "colab": {
          "base_uri": "https://localhost:8080/"
        },
        "id": "x9rdd-VsECGa",
        "outputId": "48ffc693-3d35-4077-c3c7-c00984b5b848"
      },
      "source": [
        "import wooldridge as woo\n",
        "import statsmodels.formula.api as smf\n",
        "\n",
        "gpa1 = woo.dataWoo('gpa1')\n",
        "\n",
        "reg = smf.ols(formula='colGPA ~ hsGPA + ACT', data=gpa1)\n",
        "results = reg.fit()\n",
        "print(f'results.summary(): \\n{results.summary()}\\n')"
      ],
      "execution_count": 21,
      "outputs": [
        {
          "output_type": "stream",
          "text": [
            "results.summary(): \n",
            "                            OLS Regression Results                            \n",
            "==============================================================================\n",
            "Dep. Variable:                 colGPA   R-squared:                       0.176\n",
            "Model:                            OLS   Adj. R-squared:                  0.164\n",
            "Method:                 Least Squares   F-statistic:                     14.78\n",
            "Date:                Tue, 25 May 2021   Prob (F-statistic):           1.53e-06\n",
            "Time:                        21:52:57   Log-Likelihood:                -46.573\n",
            "No. Observations:                 141   AIC:                             99.15\n",
            "Df Residuals:                     138   BIC:                             108.0\n",
            "Df Model:                           2                                         \n",
            "Covariance Type:            nonrobust                                         \n",
            "==============================================================================\n",
            "                 coef    std err          t      P>|t|      [0.025      0.975]\n",
            "------------------------------------------------------------------------------\n",
            "Intercept      1.2863      0.341      3.774      0.000       0.612       1.960\n",
            "hsGPA          0.4535      0.096      4.733      0.000       0.264       0.643\n",
            "ACT            0.0094      0.011      0.875      0.383      -0.012       0.031\n",
            "==============================================================================\n",
            "Omnibus:                        3.056   Durbin-Watson:                   1.885\n",
            "Prob(Omnibus):                  0.217   Jarque-Bera (JB):                2.469\n",
            "Skew:                           0.199   Prob(JB):                        0.291\n",
            "Kurtosis:                       2.488   Cond. No.                         298.\n",
            "==============================================================================\n",
            "\n",
            "Warnings:\n",
            "[1] Standard Errors assume that the covariance matrix of the errors is correctly specified.\n",
            "\n"
          ],
          "name": "stdout"
        }
      ]
    },
    {
      "cell_type": "code",
      "metadata": {
        "id": "6N5dDt7msgLE",
        "colab": {
          "base_uri": "https://localhost:8080/"
        },
        "outputId": "959e88c7-cf2a-4a73-8c13-d382f2e3056a"
      },
      "source": [
        "import wooldridge as woo\n",
        "import statsmodels.formula.api as smf\n",
        "\n",
        "hprice1 = woo.dataWoo('hprice1')\n",
        "\n",
        "# model without avgsen:\n",
        "house_reg = smf.ols(formula='price ~ sqrft + bdrms', data=hprice1)\n",
        "results = house_reg.fit()\n",
        "print(f'results.summary(): \\n{results.summary()}\\n')"
      ],
      "execution_count": 22,
      "outputs": [
        {
          "output_type": "stream",
          "text": [
            "results.summary(): \n",
            "                            OLS Regression Results                            \n",
            "==============================================================================\n",
            "Dep. Variable:                  price   R-squared:                       0.632\n",
            "Model:                            OLS   Adj. R-squared:                  0.623\n",
            "Method:                 Least Squares   F-statistic:                     72.96\n",
            "Date:                Tue, 25 May 2021   Prob (F-statistic):           3.57e-19\n",
            "Time:                        21:53:01   Log-Likelihood:                -488.00\n",
            "No. Observations:                  88   AIC:                             982.0\n",
            "Df Residuals:                      85   BIC:                             989.4\n",
            "Df Model:                           2                                         \n",
            "Covariance Type:            nonrobust                                         \n",
            "==============================================================================\n",
            "                 coef    std err          t      P>|t|      [0.025      0.975]\n",
            "------------------------------------------------------------------------------\n",
            "Intercept    -19.3150     31.047     -0.622      0.536     -81.044      42.414\n",
            "sqrft          0.1284      0.014      9.291      0.000       0.101       0.156\n",
            "bdrms         15.1982      9.484      1.603      0.113      -3.658      34.054\n",
            "==============================================================================\n",
            "Omnibus:                       25.221   Durbin-Watson:                   1.858\n",
            "Prob(Omnibus):                  0.000   Jarque-Bera (JB):               44.973\n",
            "Skew:                           1.122   Prob(JB):                     1.72e-10\n",
            "Kurtosis:                       5.689   Cond. No.                     9.85e+03\n",
            "==============================================================================\n",
            "\n",
            "Warnings:\n",
            "[1] Standard Errors assume that the covariance matrix of the errors is correctly specified.\n",
            "[2] The condition number is large, 9.85e+03. This might indicate that there are\n",
            "strong multicollinearity or other numerical problems.\n",
            "\n"
          ],
          "name": "stdout"
        }
      ]
    },
    {
      "cell_type": "code",
      "metadata": {
        "colab": {
          "base_uri": "https://localhost:8080/"
        },
        "id": "q0n7-RCFe12s",
        "outputId": "be9e90f1-420a-4f64-a112-8b16d27c1fae"
      },
      "source": [
        "import wooldridge\n",
        "wooldridge.data()"
      ],
      "execution_count": 13,
      "outputs": [
        {
          "output_type": "stream",
          "text": [
            "  J.M. Wooldridge (2016) Introductory Econometrics: A Modern Approach,\n",
            "  Cengage Learning, 6th edition.\n",
            "\n",
            "  401k       401ksubs    admnrev       affairs     airfare\n",
            "  alcohol    apple       approval      athlet1     athlet2\n",
            "  attend     audit       barium        beauty      benefits\n",
            "  beveridge  big9salary  bwght         bwght2      campus\n",
            "  card       catholic    cement        census2000  ceosal1\n",
            "  ceosal2    charity     consump       corn        countymurders\n",
            "  cps78_85   cps91       crime1        crime2      crime3\n",
            "  crime4     discrim     driving       earns       econmath\n",
            "  elem94_95  engin       expendshares  ezanders    ezunem\n",
            "  fair       fertil1     fertil2       fertil3     fish\n",
            "  fringe     gpa1        gpa2          gpa3        happiness\n",
            "  hprice1    hprice2     hprice3       hseinv      htv\n",
            "  infmrt     injury      intdef        intqrt      inven\n",
            "  jtrain     jtrain2     jtrain3       kielmc      lawsch85\n",
            "  loanapp    lowbrth     mathpnl       meap00_01   meap01\n",
            "  meap93     meapsingle  minwage       mlb1        mroz\n",
            "  murder     nbasal      nyse          okun        openness\n",
            "  pension    phillips    pntsprd       prison      prminwge\n",
            "  rdchem     rdtelec     recid         rental      return\n",
            "  saving     sleep75     slp75_81      smoke       traffic1\n",
            "  traffic2   twoyear     volat         vote1       vote2\n",
            "  voucher    wage1       wage2         wagepan     wageprc\n",
            "  wine\n"
          ],
          "name": "stdout"
        }
      ]
    },
    {
      "cell_type": "code",
      "metadata": {
        "colab": {
          "base_uri": "https://localhost:8080/",
          "height": 204
        },
        "id": "wap8uuwrMiZA",
        "outputId": "ad5d7ab8-2407-47c3-e874-a3f8a6a99d21"
      },
      "source": [
        "rdchem = woo.dataWoo('rdchem')\n",
        "rdchem.head(5)"
      ],
      "execution_count": 15,
      "outputs": [
        {
          "output_type": "execute_result",
          "data": {
            "text/html": [
              "<div>\n",
              "<style scoped>\n",
              "    .dataframe tbody tr th:only-of-type {\n",
              "        vertical-align: middle;\n",
              "    }\n",
              "\n",
              "    .dataframe tbody tr th {\n",
              "        vertical-align: top;\n",
              "    }\n",
              "\n",
              "    .dataframe thead th {\n",
              "        text-align: right;\n",
              "    }\n",
              "</style>\n",
              "<table border=\"1\" class=\"dataframe\">\n",
              "  <thead>\n",
              "    <tr style=\"text-align: right;\">\n",
              "      <th></th>\n",
              "      <th>rd</th>\n",
              "      <th>sales</th>\n",
              "      <th>profits</th>\n",
              "      <th>rdintens</th>\n",
              "      <th>profmarg</th>\n",
              "      <th>salessq</th>\n",
              "      <th>lsales</th>\n",
              "      <th>lrd</th>\n",
              "    </tr>\n",
              "  </thead>\n",
              "  <tbody>\n",
              "    <tr>\n",
              "      <th>0</th>\n",
              "      <td>430.600006</td>\n",
              "      <td>4570.200195</td>\n",
              "      <td>186.899994</td>\n",
              "      <td>9.421906</td>\n",
              "      <td>4.089536</td>\n",
              "      <td>2.088673e+07</td>\n",
              "      <td>8.427312</td>\n",
              "      <td>6.065180</td>\n",
              "    </tr>\n",
              "    <tr>\n",
              "      <th>1</th>\n",
              "      <td>59.000000</td>\n",
              "      <td>2830.000000</td>\n",
              "      <td>467.000000</td>\n",
              "      <td>2.084806</td>\n",
              "      <td>16.501766</td>\n",
              "      <td>8.008900e+06</td>\n",
              "      <td>7.948032</td>\n",
              "      <td>4.077538</td>\n",
              "    </tr>\n",
              "    <tr>\n",
              "      <th>2</th>\n",
              "      <td>23.500000</td>\n",
              "      <td>596.799988</td>\n",
              "      <td>107.400002</td>\n",
              "      <td>3.937668</td>\n",
              "      <td>17.995979</td>\n",
              "      <td>3.561702e+05</td>\n",
              "      <td>6.391582</td>\n",
              "      <td>3.157000</td>\n",
              "    </tr>\n",
              "    <tr>\n",
              "      <th>3</th>\n",
              "      <td>3.500000</td>\n",
              "      <td>133.600006</td>\n",
              "      <td>-4.300000</td>\n",
              "      <td>2.619760</td>\n",
              "      <td>-3.218563</td>\n",
              "      <td>1.784896e+04</td>\n",
              "      <td>4.894850</td>\n",
              "      <td>1.252763</td>\n",
              "    </tr>\n",
              "    <tr>\n",
              "      <th>4</th>\n",
              "      <td>1.700000</td>\n",
              "      <td>42.000000</td>\n",
              "      <td>8.000000</td>\n",
              "      <td>4.047619</td>\n",
              "      <td>19.047619</td>\n",
              "      <td>1.764000e+03</td>\n",
              "      <td>3.737670</td>\n",
              "      <td>0.530628</td>\n",
              "    </tr>\n",
              "  </tbody>\n",
              "</table>\n",
              "</div>"
            ],
            "text/plain": [
              "           rd        sales     profits  ...       salessq    lsales       lrd\n",
              "0  430.600006  4570.200195  186.899994  ...  2.088673e+07  8.427312  6.065180\n",
              "1   59.000000  2830.000000  467.000000  ...  8.008900e+06  7.948032  4.077538\n",
              "2   23.500000   596.799988  107.400002  ...  3.561702e+05  6.391582  3.157000\n",
              "3    3.500000   133.600006   -4.300000  ...  1.784896e+04  4.894850  1.252763\n",
              "4    1.700000    42.000000    8.000000  ...  1.764000e+03  3.737670  0.530628\n",
              "\n",
              "[5 rows x 8 columns]"
            ]
          },
          "metadata": {
            "tags": []
          },
          "execution_count": 15
        }
      ]
    },
    {
      "cell_type": "code",
      "metadata": {
        "colab": {
          "base_uri": "https://localhost:8080/"
        },
        "id": "a2dq2RY_MfwK",
        "outputId": "b1fad866-c2c1-4120-ae5d-66d8c954b3c9"
      },
      "source": [
        "import statsmodels.formula.api as smf\n",
        "rd_reg = smf.ols(formula='lrd ~ lsales + profmarg', data=rdchem)\n",
        "results = rd_reg.fit()\n",
        "print(f'results.summary(): \\n{results.summary()}\\n')\n",
        "\n",
        "\n",
        "# house_reg = smf.ols(formula='price ~ sqrft + bdrms', data=hprice1)\n",
        "# results = house_reg.fit()\n",
        "# print(f'results.summary(): \\n{results.summary()}\\n')"
      ],
      "execution_count": 24,
      "outputs": [
        {
          "output_type": "stream",
          "text": [
            "results.summary(): \n",
            "                            OLS Regression Results                            \n",
            "==============================================================================\n",
            "Dep. Variable:                    lrd   R-squared:                       0.918\n",
            "Model:                            OLS   Adj. R-squared:                  0.912\n",
            "Method:                 Least Squares   F-statistic:                     162.2\n",
            "Date:                Tue, 25 May 2021   Prob (F-statistic):           1.79e-16\n",
            "Time:                        21:53:52   Log-Likelihood:                -22.511\n",
            "No. Observations:                  32   AIC:                             51.02\n",
            "Df Residuals:                      29   BIC:                             55.42\n",
            "Df Model:                           2                                         \n",
            "Covariance Type:            nonrobust                                         \n",
            "==============================================================================\n",
            "                 coef    std err          t      P>|t|      [0.025      0.975]\n",
            "------------------------------------------------------------------------------\n",
            "Intercept     -4.3783      0.468     -9.355      0.000      -5.335      -3.421\n",
            "lsales         1.0842      0.060     18.012      0.000       0.961       1.207\n",
            "profmarg       0.0217      0.013      1.694      0.101      -0.004       0.048\n",
            "==============================================================================\n",
            "Omnibus:                        0.670   Durbin-Watson:                   1.859\n",
            "Prob(Omnibus):                  0.715   Jarque-Bera (JB):                0.671\n",
            "Skew:                           0.308   Prob(JB):                        0.715\n",
            "Kurtosis:                       2.649   Cond. No.                         70.6\n",
            "==============================================================================\n",
            "\n",
            "Warnings:\n",
            "[1] Standard Errors assume that the covariance matrix of the errors is correctly specified.\n",
            "\n"
          ],
          "name": "stdout"
        }
      ]
    }
  ]
}